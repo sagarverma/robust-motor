{
 "cells": [
  {
   "cell_type": "code",
   "execution_count": 79,
   "id": "e7c15c61-df33-471d-b432-09ccd2a626a4",
   "metadata": {},
   "outputs": [],
   "source": [
    "import numpy as np \n",
    "from mat73 import loadmat\n",
    "from scipy.io import savemat\n",
    "from scipy.interpolate import interp1d\n",
    "\n",
    "%matplotlib inline\n",
    "import matplotlib.pyplot as plt"
   ]
  },
  {
   "cell_type": "code",
   "execution_count": 60,
   "id": "0dd3358b-7253-4f7b-a6fc-02ecd27c9ee6",
   "metadata": {},
   "outputs": [],
   "source": [
    "data = loadmat('/mnt/h/FaultDetection/datasets/fault_data/struct_r1b_R1.mat')"
   ]
  },
  {
   "cell_type": "code",
   "execution_count": 67,
   "id": "6c22f0b8-b438-4fa5-92b3-961e2d96320d",
   "metadata": {},
   "outputs": [
    {
     "data": {
      "text/plain": [
       "dict_keys(['Ia', 'Ib', 'Ic', 'Trigger', 'Va', 'Vb', 'Vc', 'Vib_acpe', 'Vib_acpi', 'Vib_axial', 'Vib_base', 'Vib_carc'])"
      ]
     },
     "execution_count": 67,
     "metadata": {},
     "output_type": "execute_result"
    }
   ],
   "source": []
  },
  {
   "cell_type": "code",
   "execution_count": 83,
   "id": "7f10d8b0-02e2-4162-b1a5-e9291aefab69",
   "metadata": {},
   "outputs": [],
   "source": [
    "for mat in ['r1b', 'r2b', 'r3b', 'r4b', 'rs']:\n",
    "    data = loadmat(f'/mnt/h/FaultDetection/datasets/fault_data/struct_{mat}_R1.mat')\n",
    "    for k in data[mat].keys():\n",
    "        for i in range(len(data[mat][k])):\n",
    "            this_sample = data[mat][k][i]\n",
    "            st = 0\n",
    "            et = 20\n",
    "            total_samples = this_sample['Trigger'].shape[0]\n",
    "            short_ts = np.linspace(st, et, total_samples)\n",
    "            time = np.linspace(st, et, this_sample['Ia'].shape[0])\n",
    "\n",
    "            trigger_f = interp1d(short_ts, this_sample['Trigger'])\n",
    "            vib_acpe_f = interp1d(short_ts, this_sample['Vib_acpe'])\n",
    "            vib_acpi_f = interp1d(short_ts, this_sample['Vib_acpi'])\n",
    "            vib_axial_f = interp1d(short_ts, this_sample['Vib_axial'])\n",
    "            vib_base_f = interp1d(short_ts, this_sample['Vib_base'])\n",
    "            vib_carc_f = interp1d(short_ts, this_sample['Vib_carc'])\n",
    "\n",
    "            trigger_interp = trigger_f(time)\n",
    "            vib_acpe_interp = vib_acpe_f(time)\n",
    "            vib_acpi_interp = vib_acpi_f(time)\n",
    "            vib_axial_interp = vib_axial_f(time)\n",
    "            vib_base_interp = vib_base_f(time)\n",
    "            vib_carc_interp = vib_carc_f(time)\n",
    "\n",
    "            out = {'time': time,\n",
    "                   'current_a': this_sample['Ia'],\n",
    "                   'current_b': this_sample['Ib'],\n",
    "                   'current_c': this_sample['Ic'],\n",
    "                   'voltage_a': this_sample['Va'],\n",
    "                   'voltage_b': this_sample['Vb'],\n",
    "                   'voltage_c': this_sample['Vc'],\n",
    "                   'trigger': trigger_interp,\n",
    "                   'vib_acpe': vib_acpe_interp,\n",
    "                   'vib_acpi': vib_acpi_interp,\n",
    "                   'vib_axial': vib_axial_interp,\n",
    "                   'vib_base': vib_base_interp,\n",
    "                   'vib_carc': vib_carc_interp\n",
    "                  }\n",
    "            savemat(f\"/mnt/f/codes/robust_motor/data/broken_bars/{mat}_{k}_{i}.mat\", out)"
   ]
  },
  {
   "cell_type": "code",
   "execution_count": null,
   "id": "71eae0a1-9c86-4582-b8d7-a0aaa773fbe9",
   "metadata": {},
   "outputs": [],
   "source": []
  }
 ],
 "metadata": {
  "kernelspec": {
   "display_name": "Python 3 (ipykernel)",
   "language": "python",
   "name": "python3"
  },
  "language_info": {
   "codemirror_mode": {
    "name": "ipython",
    "version": 3
   },
   "file_extension": ".py",
   "mimetype": "text/x-python",
   "name": "python",
   "nbconvert_exporter": "python",
   "pygments_lexer": "ipython3",
   "version": "3.9.12"
  }
 },
 "nbformat": 4,
 "nbformat_minor": 5
}
